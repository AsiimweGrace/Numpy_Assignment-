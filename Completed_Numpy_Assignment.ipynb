{
 "cells": [
  {
   "cell_type": "markdown",
   "id": "7858ce7e",
   "metadata": {},
   "source": [
    "## Numpy Assignment\n",
    "**Student Name:** _(fill in your name here)_\n",
    "\n",
    "---"
   ]
  },
  {
   "cell_type": "markdown",
   "id": "49b413dc",
   "metadata": {},
   "source": [
    "### What is NumPy, and what are some of its key features?"
   ]
  },
  {
   "cell_type": "markdown",
   "id": "b87708c2",
   "metadata": {},
   "source": [
    "NumPy (Numerical Python) is a powerful Python library used for numerical and scientific computing. It provides support for large, multi-dimensional arrays and matrices, along with a wide collection of mathematical functions to operate on these arrays efficiently.\n",
    "\n",
    "### Key Features:\n",
    "- **Ndarray object**: Efficient multi-dimensional array object for storing elements of the same type.\n",
    "- **Broadcasting**: Ability to perform operations on arrays of different shapes.\n",
    "- **Mathematical functions**: A wide range of mathematical, statistical, and linear algebra operations.\n",
    "- **Performance**: Written in C for speed, making it much faster than pure Python operations.\n",
    "- **Integration**: Works well with other libraries like Pandas, Matplotlib, SciPy, and TensorFlow."
   ]
  },
  {
   "cell_type": "markdown",
   "id": "32dc13bc",
   "metadata": {},
   "source": [
    "### How do you install NumPy?"
   ]
  },
  {
   "cell_type": "markdown",
   "id": "1f64a83e",
   "metadata": {},
   "source": [
    "You can install NumPy using either pip or conda:\n",
    "\n",
    "```bash\n",
    "# Using pip\n",
    "pip install numpy\n",
    "\n",
    "# Using conda\n",
    "conda install numpy\n",
    "```\n",
    "Make sure Python is installed on your system before running these commands."
   ]
  },
  {
   "cell_type": "markdown",
   "id": "48fdfbb1",
   "metadata": {},
   "source": [
    "### How do you create a NumPy array using Python's built-in range() function?"
   ]
  },
  {
   "cell_type": "markdown",
   "id": "581ff2f6",
   "metadata": {},
   "source": []
  },
  {
   "cell_type": "code",
   "execution_count": 1,
   "id": "2e7ad190",
   "metadata": {},
   "outputs": [
    {
     "name": "stdout",
     "output_type": "stream",
     "text": [
      "Python list: [0, 1, 2, 3, 4, 5, 6, 7, 8, 9]\n",
      "NumPy array: [0 1 2 3 4 5 6 7 8 9]\n"
     ]
    }
   ],
   "source": [
    "import numpy as np\n",
    "\n",
    "# Create a list using range() and convert it into a NumPy array\n",
    "range_list = list(range(0, 10))  # Python's built-in range\n",
    "numpy_array = np.array(range_list)  # Convert to NumPy array\n",
    "\n",
    "print(\"Python list:\", range_list)\n",
    "print(\"NumPy array:\", numpy_array)"
   ]
  },
  {
   "cell_type": "markdown",
   "id": "ec312940",
   "metadata": {},
   "source": [
    "This approach uses Python's `range()` to create a list of numbers and converts it into a NumPy array using `np.array()`."
   ]
  },
  {
   "cell_type": "markdown",
   "id": "c09f6efe",
   "metadata": {},
   "source": [
    "### What is the difference between a scalar value and a vector in NumPy?"
   ]
  },
  {
   "cell_type": "markdown",
   "id": "d748d0e0",
   "metadata": {},
   "source": [
    "A **scalar** is a single numerical value, while a **vector** is a one-dimensional array of multiple values."
   ]
  },
  {
   "cell_type": "code",
   "execution_count": 2,
   "id": "509f0f2c",
   "metadata": {},
   "outputs": [
    {
     "name": "stdout",
     "output_type": "stream",
     "text": [
      "Scalar: 5\n",
      "Scalar shape: ()\n",
      "Vector: [1 2 3 4 5]\n",
      "Vector shape: (5,)\n"
     ]
    }
   ],
   "source": [
    "import numpy as np\n",
    "\n",
    "# Scalar example\n",
    "scalar = np.array(5)\n",
    "print(\"Scalar:\", scalar)\n",
    "print(\"Scalar shape:\", scalar.shape)  # Output: ()\n",
    "\n",
    "# Vector example\n",
    "vector = np.array([1, 2, 3, 4, 5])\n",
    "print(\"Vector:\", vector)\n",
    "print(\"Vector shape:\", vector.shape)  # Output: (5,)"
   ]
  },
  {
   "cell_type": "markdown",
   "id": "e1c35480",
   "metadata": {},
   "source": [
    "- A scalar has no dimension (`shape = ()`), just a single value.\n",
    "- A vector has one dimension (`shape = (n,)`), where `n` is the number of elements."
   ]
  }
 ],
 "metadata": {
  "kernelspec": {
   "display_name": "Python 3",
   "language": "python",
   "name": "python3"
  },
  "language_info": {
   "codemirror_mode": {
    "name": "ipython",
    "version": 3
   },
   "file_extension": ".py",
   "mimetype": "text/x-python",
   "name": "python",
   "nbconvert_exporter": "python",
   "pygments_lexer": "ipython3",
   "version": "3.12.0"
  }
 },
 "nbformat": 4,
 "nbformat_minor": 5
}
