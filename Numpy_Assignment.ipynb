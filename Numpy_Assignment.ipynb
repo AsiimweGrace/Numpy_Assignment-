{
  "cells": [
    {
      "attachments": {},
      "cell_type": "markdown",
      "metadata": {
        "id": "aTz0cvx7Iex3"
      },
      "source": [
        "## Numpy Assignment\n",
        "Student Name:\n",
        "\n",
        "## Instructions:\n",
        "- Please complete the questions below.\n",
        "- for each cell, complete it with good essays and code examples\n",
        "- Please comment your code indicating how you approached the problem"
      ]
    },
    {
      "attachments": {},
      "cell_type": "markdown",
      "metadata": {
        "id": "NwKEk4skG5c2"
      },
      "source": [
        "# What is NumPy, and what are some of its key features?\n"
      ]
    },
    {
      "cell_type": "code",
      "execution_count": 24,
      "metadata": {},
      "outputs": [],
      "source": [
        "# to install numpy when you have python installed.\n",
        "\n",
        "#conda install numpy or \n",
        "\n",
        "#pip install numpy"
      ]
    },
    {
      "attachments": {},
      "cell_type": "markdown",
      "metadata": {
        "id": "OMqoIR7oJD0i"
      },
      "source": [
        "# How do you create a NumPy array using Python's built-in range() function?\n"
      ]
    },
    {
      "cell_type": "code",
      "execution_count": null,
      "metadata": {},
      "outputs": [],
      "source": [
        "import numpy as np  # Ensure numpy is imported\n",
        "\n",
        "# Create a NumPy array using range()\n",
        "array_from_range = np.array(list(range(10)))  # Creates an array with values from 0 to 9\n",
        "print(array_from_range)  # Output the array\n"
      ]
    },
    {
      "attachments": {},
      "cell_type": "markdown",
      "metadata": {
        "id": "DRVy8tPoJHQr"
      },
      "source": [
        "# What is the difference between a scalar value and a vector in NumPy?\n",
        "with code example"
      ]
    },
    {
      "cell_type": "markdown",
      "metadata": {},
      "source": [
        "A scalar value in NumPy is a single numerical value, while a vector is a one-dimensional array of numbers.\n",
        "# Scalars can be thought of as 0-dimensional arrays, whereas vectors are 1-dimensional arrays.\n"
      ]
    },
    {
      "cell_type": "code",
      "execution_count": 1,
      "metadata": {},
      "outputs": [
        {
          "ename": "NameError",
          "evalue": "name 'np' is not defined",
          "output_type": "error",
          "traceback": [
            "\u001b[31m---------------------------------------------------------------------------\u001b[39m",
            "\u001b[31mNameError\u001b[39m                                 Traceback (most recent call last)",
            "\u001b[36mCell\u001b[39m\u001b[36m \u001b[39m\u001b[32mIn[1]\u001b[39m\u001b[32m, line 5\u001b[39m\n\u001b[32m      1\u001b[39m \u001b[38;5;66;03m# A scalar value in NumPy is a single numerical value, while a vector is a one-dimensional array of numbers.\u001b[39;00m\n\u001b[32m      2\u001b[39m \u001b[38;5;66;03m# Scalars can be thought of as 0-dimensional arrays, whereas vectors are 1-dimensional arrays.\u001b[39;00m\n\u001b[32m      3\u001b[39m \n\u001b[32m      4\u001b[39m \u001b[38;5;66;03m# Example of a scalar\u001b[39;00m\n\u001b[32m----> \u001b[39m\u001b[32m5\u001b[39m scalar_value = \u001b[43mnp\u001b[49m.array(\u001b[32m5\u001b[39m)  \u001b[38;5;66;03m# This is a scalar\u001b[39;00m\n\u001b[32m      6\u001b[39m \u001b[38;5;28mprint\u001b[39m(\u001b[33m\"\u001b[39m\u001b[33mScalar value:\u001b[39m\u001b[33m\"\u001b[39m, scalar_value)\n\u001b[32m      8\u001b[39m \u001b[38;5;66;03m# Example of a vector\u001b[39;00m\n",
            "\u001b[31mNameError\u001b[39m: name 'np' is not defined"
          ]
        }
      ],
      "source": [
        "\n",
        "# Example of a scalar\n",
        "scalar_value = np.array(5)  # This is a scalar\n",
        "print(\"Scalar value:\", scalar_value)\n",
        "\n",
        "# Example of a vector\n",
        "vector_value = np.array([1, 2, 3, 4, 5])  # This is a vector\n",
        "print(\"Vector value:\", vector_value)\n"
      ]
    },
    {
      "attachments": {},
      "cell_type": "markdown",
      "metadata": {
        "id": "lHa-pHerJKd0"
      },
      "source": [
        "# How do you calculate the mean of a NumPy array using the mean() function?\n",
        "\n",
        "Examples \n",
        "\n"
      ]
    },
    {
      "cell_type": "markdown",
      "metadata": {},
      "source": [
        "\n",
        "\n",
        "#\n"
      ]
    },
    {
      "cell_type": "markdown",
      "metadata": {},
      "source": [
        "\n",
        "1. Import the NumPy library.\n",
        "2. Create or define a NumPy array.\n",
        "3. Use the `.mean()` function to calculate the mean of the array."
      ]
    },
    {
      "cell_type": "code",
      "execution_count": 8,
      "metadata": {},
      "outputs": [
        {
          "name": "stdout",
          "output_type": "stream",
          "text": [
            "Mean of the array: 3.0\n"
          ]
        }
      ],
      "source": [
        "\n",
        "# Example \n",
        "import numpy as np\n",
        "\n",
        "array = np.array([1, 2, 3, 4, 5])\n",
        "\n",
        "mean_value = array.mean()\n",
        "\n",
        "print(\"Mean of the array:\", mean_value)"
      ]
    },
    {
      "attachments": {},
      "cell_type": "markdown",
      "metadata": {
        "id": "EqpLGTh8JON9"
      },
      "source": [
        "# What is broadcasting in NumPy, and how can it be useful?\n"
      ]
    },
    {
      "cell_type": "markdown",
      "metadata": {},
      "source": [
        "Broadcasting in NumPy is a feature that allows operations on arrays of different shapes. When performing operations, NumPy automatically expands the smaller array to match the shape of the larger array without creating unnecessary copies of data. \n",
        "\n",
        "\n",
        "This is useful for efficient computation and simplifies code when working with arrays of varying dimensions."
      ]
    },
    {
      "attachments": {},
      "cell_type": "markdown",
      "metadata": {},
      "source": [
        "# How can you slice a NumPy array to extract a subarray?\n",
        "\n",
        "\n"
      ]
    },
    {
      "cell_type": "markdown",
      "metadata": {},
      "source": [
        "\n",
        "1. Use slicing syntax `[start:stop:step]` to extract a subarray.\n",
        "2. Apply slicing on rows, columns, or both for multidimensional arrays.\n",
        "\n",
        "\n"
      ]
    },
    {
      "cell_type": "code",
      "execution_count": 9,
      "metadata": {},
      "outputs": [
        {
          "name": "stdout",
          "output_type": "stream",
          "text": [
            "Original array:\n",
            "[[1 2 3]\n",
            " [4 5 6]\n",
            " [7 8 9]]\n",
            "Subarray:\n",
            "[[1 2]\n",
            " [4 5]]\n"
          ]
        }
      ],
      "source": [
        "import numpy as np\n",
        "\n",
        "# Example NumPy array\n",
        "array = np.array([[1, 2, 3], \n",
        "                  [4, 5, 6], \n",
        "                  [7, 8, 9]])\n",
        "\n",
        "# Extract a subarray ( first two rows and first two columns)\n",
        "subarray = array[:2, :2]\n",
        "\n",
        "print(\"Original array:\")\n",
        "print(array)\n",
        "print(\"Subarray:\")\n",
        "print(subarray)"
      ]
    },
    {
      "attachments": {},
      "cell_type": "markdown",
      "metadata": {
        "id": "c1jTMq5AJbS2"
      },
      "source": [
        "# What are some of the available functions for performing element-wise operations on NumPy arrays?\n"
      ]
    },
    {
      "cell_type": "markdown",
      "metadata": {},
      "source": [
        "\n",
        "\n",
        "\n",
        "1. **Arithmetic Operations**: `np.add()`, `np.subtract()`, `np.multiply()`, `np.divide()`.\n",
        "2. **Mathematical Functions**: `np.sqrt()`, `np.exp()`, `np.log()`, `np.sin()`, `np.cos()`.\n",
        "3. **Comparison Operations**: `np.equal()`, `np.greater()`, `np.less()`.\n",
        "4. **Logical Operations**: `np.logical_and()`, `np.logical_or()`, `np.logical_not()`.\n",
        "\n"
      ]
    },
    {
      "cell_type": "markdown",
      "metadata": {
        "id": "dPgmCPERJe_2"
      },
      "source": [
        "# How do you reshape a NumPy array to have a different shape?\n",
        "\n",
        "\n",
        "\n"
      ]
    },
    {
      "cell_type": "markdown",
      "metadata": {},
      "source": [
        "\n",
        "1. Use the `.reshape()` method or `np.reshape()` function.\n",
        "2. Ensure the new shape is compatible with the total number of elements in the array.\n",
        "\n",
        "\n"
      ]
    },
    {
      "cell_type": "code",
      "execution_count": 10,
      "metadata": {},
      "outputs": [
        {
          "name": "stdout",
          "output_type": "stream",
          "text": [
            "Original array:\n",
            "[1 2 3 4 5 6]\n",
            "Reshaped array:\n",
            "[[1 2 3]\n",
            " [4 5 6]]\n"
          ]
        }
      ],
      "source": [
        "import numpy as np\n",
        "array = np.array([1, 2, 3, 4, 5, 6])\n",
        "\n",
        "# Reshape the array to 2 rows and 3 columns\n",
        "reshaped_array = array.reshape(2, 3)\n",
        "\n",
        "print(\"Original array:\")\n",
        "print(array)\n",
        "print(\"Reshaped array:\")\n",
        "print(reshaped_array)"
      ]
    },
    {
      "attachments": {},
      "cell_type": "markdown",
      "metadata": {},
      "source": [
        "# How do you perform matrix multiplication on two NumPy arrays using the dot() function?\n"
      ]
    },
    {
      "cell_type": "markdown",
      "metadata": {},
      "source": [
        "\n",
        "1. Import the NumPy library.\n",
        "2. Define two NumPy arrays representing matrices.\n",
        "3. Use the `np.dot()` function or the `.dot()` method to perform matrix multiplication.\n",
        "\n",
        "\n"
      ]
    },
    {
      "cell_type": "code",
      "execution_count": 15,
      "metadata": {},
      "outputs": [
        {
          "name": "stdout",
          "output_type": "stream",
          "text": [
            "Matrix A:\n",
            "[[1 2]\n",
            " [3 4]]\n",
            "Matrix B:\n",
            "[[5 6]\n",
            " [7 8]]\n",
            "Result of matrix multiplication:\n",
            "[[19 22]\n",
            " [43 50]]\n"
          ]
        }
      ],
      "source": [
        "import numpy as np\n",
        "\n",
        "# Define two matrices\n",
        "matrix_a = np.array([[1, 2], \n",
        "                     [3, 4]])\n",
        "matrix_b = np.array([[5, 6], \n",
        "                     [7, 8]])\n",
        "\n",
        "# matrix multiplication\n",
        "result = np.dot(matrix_a, matrix_b)\n",
        "\n",
        "print(\"Matrix A:\")\n",
        "print(matrix_a)\n",
        "print(\"Matrix B:\")\n",
        "print(matrix_b)\n",
        "print(\"Result of matrix multiplication:\")\n",
        "print(result)"
      ]
    },
    {
      "cell_type": "markdown",
      "metadata": {
        "id": "JtbVS5P0Jodg"
      },
      "source": [
        "# How can you use the where() function to apply a condition to a NumPy array?\n"
      ]
    },
    {
      "cell_type": "markdown",
      "metadata": {},
      "source": [
        "\n",
        "1. Use `np.where(condition, x, y)` to apply a condition.\n",
        "2. Replace elements in the array based on the condition:\n",
        "   - If the condition is `True`, use value `x`.\n",
        "   - If the condition is `False`, use value `y`.\n",
        "\n",
        "### Example:\n"
      ]
    },
    {
      "cell_type": "code",
      "execution_count": 16,
      "metadata": {},
      "outputs": [
        {
          "name": "stdout",
          "output_type": "stream",
          "text": [
            "Original array:\n",
            "[10 20 30 40 50]\n",
            "Result after applying np.where:\n",
            "[0 0 1 1 1]\n"
          ]
        }
      ],
      "source": [
        "import numpy as np\n",
        "\n",
        "#  NumPy array\n",
        "array = np.array([10, 20, 30, 40, 50])\n",
        "\n",
        "#  condition: Replace values greater than 25 with 1, others with 0\n",
        "result = np.where(array > 25, 1, 0)\n",
        "\n",
        "print(\"Original array:\")\n",
        "print(array)\n",
        "print(\"Result after applying np.where:\")\n",
        "print(result)"
      ]
    },
    {
      "attachments": {},
      "cell_type": "markdown",
      "metadata": {},
      "source": [
        "# What is the difference between the flatten() and ravel() functions in NumPy?\n",
        "\n",
        "\n"
      ]
    },
    {
      "cell_type": "markdown",
      "metadata": {},
      "source": [
        "\n",
        "\n",
        "1. **`flatten()`**:\n",
        "   - Creates a new one-dimensional array from the original array.\n",
        "   - Changes made to this new array won’t affect the original array.\n",
        "\n",
        "2. **`ravel()`**:\n",
        "   - Produces a one-dimensional view of the original array, if possible.\n",
        "   - If it’s a view, changes to this array will also change the original array.\n",
        "\n"
      ]
    },
    {
      "attachments": {},
      "cell_type": "markdown",
      "metadata": {},
      "source": [
        "# How do you use NumPy's advanced indexing capabilities to select specific elements from an array?\n"
      ]
    },
    {
      "cell_type": "markdown",
      "metadata": {},
      "source": [
        "\n",
        "\n",
        "### Example:\n"
      ]
    },
    {
      "cell_type": "code",
      "execution_count": 17,
      "metadata": {},
      "outputs": [
        {
          "name": "stdout",
          "output_type": "stream",
          "text": [
            "Original array:\n",
            "[10 20 30 40 50]\n",
            "Selected elements using indices:\n",
            "[10 30 50]\n",
            "Selected elements using boolean mask:\n",
            "[30 40 50]\n"
          ]
        }
      ],
      "source": [
        "import numpy as np\n",
        "\n",
        "# NumPy array\n",
        "array = np.array([10, 20, 30, 40, 50])\n",
        "\n",
        "# Select specific elements using an array of indices\n",
        "indices = [0, 2, 4]\n",
        "selected_elements = array[indices]\n",
        "\n",
        "# Select elements using a boolean mask\n",
        "mask = array > 25\n",
        "masked_elements = array[mask]\n",
        "\n",
        "print(\"Original array:\")\n",
        "print(array)\n",
        "print(\"Selected elements using indices:\")\n",
        "print(selected_elements)\n",
        "print(\"Selected elements using boolean mask:\")\n",
        "print(masked_elements)"
      ]
    },
    {
      "attachments": {},
      "cell_type": "markdown",
      "metadata": {
        "id": "b2NpOnu2JxMp"
      },
      "source": [
        "# How can you use NumPy's broadcasting rules to perform operations on arrays with different shapes?"
      ]
    },
    {
      "cell_type": "markdown",
      "metadata": {},
      "source": [
        "\n",
        "Broadcasting lets you perform operations on arrays with different shapes by automatically expanding the smaller array to match the larger one. This makes calculations easier without needing to manually resize arrays.\n",
        "\n",
        "Example:\n"
      ]
    },
    {
      "cell_type": "code",
      "execution_count": 18,
      "metadata": {},
      "outputs": [
        {
          "name": "stdout",
          "output_type": "stream",
          "text": [
            "Result:\n",
            "[[11 22 33]\n",
            " [14 25 36]]\n"
          ]
        }
      ],
      "source": [
        "import numpy as np\n",
        "\n",
        "# Example arrays\n",
        "array_a = np.array([[1, 2, 3], \n",
        "                    [4, 5, 6]])  # 2x3 array\n",
        "array_b = np.array([10, 20, 30])  # 1x3 array\n",
        "\n",
        "# Add the arrays (broadcasting happens automatically)\n",
        "result = array_a + array_b\n",
        "\n",
        "print(\"Result:\")\n",
        "print(result)"
      ]
    },
    {
      "cell_type": "markdown",
      "metadata": {
        "id": "XgeHrSj7KzTj"
      },
      "source": [
        "### Project: Array Statistics Calculator\n",
        "**Description:**\n",
        "\n",
        "In this project, you will create a program that allows a user to enter a list of numbers, and then calculates and displays various statistics about those numbers using NumPy.\n",
        "\n",
        "**Requirements:**\n",
        "\n",
        "- The program should prompt the user to enter a list of numbers separated by commas.\n",
        "- The program should use NumPy to convert the input into a 1D NumPy array.\n",
        "- The program should calculate and display the following statistics:\n",
        "- The mean of the numbers\n",
        "- The median of the numbers\n",
        "- The standard deviation of the numbers\n",
        "- The maximum and minimum values of the numbers\n",
        "- The program should use appropriate NumPy functions to calculate the statistics.\n",
        "- The program should display the statistics with appropriate labels.\n",
        "\n",
        "### Sample Output\n",
        "```\n",
        "Enter a list of numbers separated by commas: 2, 5, 7, 3, 1, 9\n",
        "Statistics for the input array:\n",
        "Mean: 4.5\n",
        "Median: 4.0\n",
        "Standard Deviation: 2.9154759474226504\n",
        "Maximum: 9\n",
        "Minimum: 1\n",
        "```"
      ]
    },
    {
      "cell_type": "code",
      "execution_count": 19,
      "metadata": {},
      "outputs": [
        {
          "name": "stdout",
          "output_type": "stream",
          "text": [
            "Results for the input array:\n",
            "Mean: 3.0\n",
            "Median: 3.0\n",
            "Standard Deviation: 1.4142135623730951\n",
            "Maximum: 5.0\n",
            "Minimum: 1.0\n"
          ]
        }
      ],
      "source": [
        "import numpy as np\n",
        "\n",
        "# Prompt user for input\n",
        "user_input = input(\"Enter a list of numbers separated by commas: \")\n",
        "\n",
        "# Convert input string to NumPy array\n",
        "numbers = np.array([float(num) for num in user_input.split(\",\")])\n",
        "\n",
        "# Calculate \n",
        "mean = np.mean(numbers)\n",
        "median = np.median(numbers)\n",
        "std_dev = np.std(numbers)\n",
        "maximum = np.max(numbers)\n",
        "minimum = np.min(numbers)\n",
        "\n",
        "# Display Results\n",
        "print(\"Results for the input array:\")\n",
        "print(f\"Mean: {mean}\")\n",
        "print(f\"Median: {median}\")\n",
        "print(f\"Standard Deviation: {std_dev}\")\n",
        "print(f\"Maximum: {maximum}\")\n",
        "print(f\"Minimum: {minimum}\")"
      ]
    }
  ],
  "metadata": {
    "colab": {
      "provenance": []
    },
    "kernelspec": {
      "display_name": "Python 3",
      "name": "python3"
    },
    "language_info": {
      "codemirror_mode": {
        "name": "ipython",
        "version": 3
      },
      "file_extension": ".py",
      "mimetype": "text/x-python",
      "name": "python",
      "nbconvert_exporter": "python",
      "pygments_lexer": "ipython3",
      "version": "3.12.6"
    }
  },
  "nbformat": 4,
  "nbformat_minor": 0
}
